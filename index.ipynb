{
 "cells": [
  {
   "cell_type": "markdown",
   "metadata": {},
   "source": [
    "# Class Imbalance Problems - Lab\n",
    "\n",
    "## Introduction\n",
    "\n",
    "\n",
    "Now that you've gone over some techniques for tuning classification models on imbalanced datasets, it's time to practice those techniques. In this lab, you'll investigate credit card fraud and attempt to tune a model to flag suspicious activity.\n",
    "\n",
    "## Objectives\n",
    "\n",
    "You will be able to:\n",
    "\n",
    "- Use sampling techniques to address a class imbalance problem within a dataset \n",
    "- Create a visualization of ROC curves and use it to assess a model"
   ]
  },
  {
   "cell_type": "markdown",
   "metadata": {},
   "source": [
    "## Predicting credit card fraud\n",
    "\n",
    "\n",
    "The following cell loads all the functions you will be using in this lab. All you need to do is run it: "
   ]
  },
  {
   "cell_type": "code",
   "execution_count": null,
   "metadata": {},
   "outputs": [],
   "source": [
    "import pandas as pd\n",
    "import numpy as np\n",
    "import itertools\n",
    "\n",
    "from sklearn.model_selection import train_test_split\n",
    "from sklearn.linear_model import LogisticRegression\n",
    "\n",
    "from sklearn.metrics import roc_curve, auc\n",
    "from sklearn.metrics import confusion_matrix, plot_confusion_matrix, classification_report\n",
    "\n",
    "from imblearn.over_sampling import SMOTE, ADASYN\n",
    "\n",
    "import matplotlib.pyplot as plt\n",
    "import seaborn as sns\n",
    "%matplotlib inline"
   ]
  },
  {
   "cell_type": "markdown",
   "metadata": {},
   "source": [
    "Use Pandas to load the compressed CSV file, `'creditcard.csv.gz'`. \n",
    "\n",
    "> Note: You need to pass an additional argument (`compression='gzip'`) to read_csv() in order to load compressed CSV files. "
   ]
  },
  {
   "cell_type": "code",
   "execution_count": null,
   "metadata": {},
   "outputs": [],
   "source": [
    "# Load a compressed csv file\n",
    "df = pd.read_csv('creditcard.csv.gz')\n",
    "\n",
    "# Print the first five rows of data\n",
    "df.head()"
   ]
  },
  {
   "cell_type": "markdown",
   "metadata": {},
   "source": [
    "## Preview the class imbalance\n",
    "\n",
    "Did you notice that the dataset has 31 columns? The first is a time field followed by columns V1 - V28, created by way of manual feature engineering done on the backend that we have little information about. Finally, there's the amount of the purchase and a binary `'Class'` flag. This last column, `'Class'`, is the indication of whether or not the purchase was fraudulent, and it is what you should be attempting to predict.\n",
    "\n",
    "Take a look at how imbalanced this dataset is: "
   ]
  },
  {
   "cell_type": "code",
   "execution_count": null,
   "metadata": {},
   "outputs": [],
   "source": [
    "# Investigating poptential class imbalence\n",
    "# 1. Identify target feature\n",
    "target = 'Class'\n",
    "# 2. Print the number of fraudulent/infraudulent purchases\n",
    "print('Normalized counts: \\n')\n",
    "for e in [x for x in enumerate(df[target].value_counts(normalize=True))]:\n",
    "    print(f'{e[0]}\\t{e[1]*100:.4}%')"
   ]
  },
  {
   "cell_type": "markdown",
   "metadata": {},
   "source": [
    "## Define the predictor and target variables\n",
    "\n",
    "Define `X` and `y` and perform a standard train-test split. Assign 25% to the test set and `random_state` to 0. "
   ]
  },
  {
   "cell_type": "code",
   "execution_count": null,
   "metadata": {},
   "outputs": [],
   "source": [
    "# Your code here\n",
    "y = df[target]\n",
    "X = df.drop(target, axis=1)\n",
    "X_train, X_test, y_train, y_test = train_test_split(X, y, random_state=0)"
   ]
  },
  {
   "cell_type": "markdown",
   "metadata": {},
   "source": [
    "Find the class imbalance in the training and test sets: "
   ]
  },
  {
   "cell_type": "code",
   "execution_count": null,
   "metadata": {},
   "outputs": [],
   "source": [
    "# Training set\n",
    "print('TRAIN SET:\\n')\n",
    "\n",
    "for e in [x for x in enumerate(y_train.value_counts(normalize=True))]:\n",
    "    print(f'{e[0]}\\t{e[1]*100:.4}%')\n",
    "# Test set\n",
    "print('\\nTEST SET:\\n')\n",
    "for e in [x for x in enumerate(y_test.value_counts(normalize=True))]:\n",
    "    print(f'{e[0]}\\t{e[1]*100:.4}%')"
   ]
  },
  {
   "cell_type": "markdown",
   "metadata": {},
   "source": [
    "## Create an initial model\n",
    "\n",
    "As a baseline, train a vanilla logistic regression model. Then plot the ROC curve and print out the AUC. We'll use this as a comparison for how our future models perform."
   ]
  },
  {
   "cell_type": "code",
   "execution_count": null,
   "metadata": {},
   "outputs": [],
   "source": [
    "# Initial Model\n",
    "logreg = LogisticRegression(fit_intercept=False, solver='liblinear') \n",
    "baseline = logreg.fit(X_train, y_train)\n",
    "\n",
    "# Probability scores for test set\n",
    "y_score = baseline.decision_function(X_test)\n",
    "\n",
    "# False positive rate and true positive rate\n",
    "fpr, tpr, thresholds = roc_curve(y_test, y_score)\n",
    "\n",
    "# Seaborn's beautiful styling\n",
    "sns.set_style('darkgrid', {'axes.facecolor': '0.9'})\n",
    "\n",
    "# Print AUC\n",
    "print(f' AUC: {auc(fpr, tpr)}')\n",
    "\n",
    "# Plot the ROC curve\n",
    "#plt.figure(figsize=(10, 8))\n",
    "from sklearn.metrics import plot_roc_curve\n",
    "plot_roc_curve(baseline, X_test, y_test);"
   ]
  },
  {
   "cell_type": "markdown",
   "metadata": {},
   "source": [
    "Use scikit-learn's `plot_confusion_matrix` function to plot the confusion matrix of the test set: "
   ]
  },
  {
   "cell_type": "code",
   "execution_count": null,
   "metadata": {},
   "outputs": [],
   "source": [
    "# Plot confusion matrix of the test set \n",
    "plot_confusion_matrix(baseline, X_test, y_test);"
   ]
  },
  {
   "cell_type": "markdown",
   "metadata": {},
   "source": [
    "## Tune the model \n",
    "\n",
    "Try some of the various techniques proposed to tune your model. Compare your models using AUC and ROC curve."
   ]
  },
  {
   "cell_type": "code",
   "execution_count": null,
   "metadata": {},
   "outputs": [],
   "source": [
    "# Now let's compare a few different regularization performances on the dataset:\n",
    "C_param_range = [0.001, 0.01, 0.1, 1, 10, 100]\n",
    "names = [0.001, 0.01, 0.1, 1, 10, 100]\n",
    "colors = sns.color_palette('Set2')\n",
    "\n",
    "plt.figure(figsize=(10, 8))\n",
    "\n",
    "for n, c in enumerate(C_param_range):\n",
    "    # Fit a model\n",
    "    logreg = LogisticRegression(fit_intercept=False, C=c, solver='liblinear')\n",
    "    model_log = logreg.fit(X_train, y_train)\n",
    "    print(model_log) # Preview model params\n",
    "\n",
    "    # Predict\n",
    "    y_hat_test = None # I don't think we need this\n",
    "\n",
    "    y_score = model_log.decision_function(X_train)\n",
    "\n",
    "    fpr, tpr, thresholds = roc_curve(y_train, y_score)\n",
    "    \n",
    "    print('AUC for {}: {}'.format(names[n], auc(fpr, tpr)))\n",
    "    print('-------------------------------------------------------')\n",
    "    lw = 2\n",
    "    plt.plot(fpr, tpr, color=colors[n],\n",
    "             lw=lw, label='ROC curve Normalization Weight: {}'.format(names[n]))\n",
    "\n",
    "plt.plot([0, 1], [0, 1], color='navy', lw=lw, linestyle='--')\n",
    "plt.xlim([0.0, 1.0])\n",
    "plt.ylim([0.0, 1.05])\n",
    "\n",
    "plt.yticks([i/20.0 for i in range(21)])\n",
    "plt.xticks([i/20.0 for i in range(21)])\n",
    "plt.xlabel('False Positive Rate')\n",
    "plt.ylabel('True Positive Rate')\n",
    "plt.title('Receiver operating characteristic (ROC) Curve')\n",
    "plt.legend(loc='lower right')\n",
    "plt.show()"
   ]
  },
  {
   "cell_type": "markdown",
   "metadata": {},
   "source": [
    "### SMOTE\n",
    "\n",
    "Use the `SMOTE` class from the `imblearn` package in order to improve the model's performance on the minority class. "
   ]
  },
  {
   "cell_type": "code",
   "execution_count": null,
   "metadata": {},
   "outputs": [],
   "source": [
    "# Previous original class distribution\n",
    "print('-'*40)\n",
    "print('\\tORIGINAL TRAIN DATA')\n",
    "print('-'*40)\n",
    "print(y_train.value_counts())\n",
    "print('- '*20)\n",
    "for e in [x for x in enumerate(y_train.value_counts(normalize=True))]:\n",
    "    print(f'{e[0]}\\t{e[1]*100:.4}%')\n",
    "print('-'*40)\n",
    "\n",
    "# Fit SMOTE to training data\n",
    "from imblearn.over_sampling import SMOTE\n",
    "\n",
    "X_train_resampled, y_train_resampled = SMOTE(random_state=42).fit_sample(X_train, y_train)\n",
    "\n",
    "# Fit SMOTE to training data\n",
    "from imblearn.combine import SMOTETomek\n",
    "X_train_resampled2, y_train_resampled2 = SMOTETomek(random_state=42).fit_sample(X_train, y_train)\n",
    "\n",
    "# Preview synthetic sample class distribution\n",
    "print('-'*40)\n",
    "print('\\tSMOTE TRAIN DATA')\n",
    "print('-'*40)\n",
    "print(pd.Series(y_train_resampled).value_counts())\n",
    "print('- '*20)\n",
    "for e in [x for x in enumerate(y_train_resampled.value_counts(normalize=True))]:\n",
    "    print(f'{e[0]}\\t{e[1]*100:.4}%')\n",
    "print('-'*40)\n",
    "\n",
    "print('-'*40)\n",
    "print('\\tSMOTETomek TRAIN DATA')\n",
    "print('-'*40)\n",
    "print(pd.Series(y_train_resampled2).value_counts())\n",
    "print('- '*20)\n",
    "for e in [x for x in enumerate(y_train_resampled2.value_counts(normalize=True))]:\n",
    "    print(f'{e[0]}\\t{e[1]*100:.4}%')\n",
    "print('-'*40)"
   ]
  },
  {
   "cell_type": "code",
   "execution_count": null,
   "metadata": {},
   "outputs": [],
   "source": [
    "f'{((213233-212457)/213233)*100}%'"
   ]
  },
  {
   "cell_type": "markdown",
   "metadata": {},
   "source": [
    "Similar to what you did above, build models with this resampled training data: "
   ]
  },
  {
   "cell_type": "code",
   "execution_count": null,
   "metadata": {},
   "outputs": [],
   "source": [
    "# Now let's compare a few different regularization performances on the dataset\n",
    "C_param_range = [0.005, 0.1, 0.2, 0.5, 0.8, 1, 1.25, 1.5, 2]\n",
    "#names = [0.005, 0.1, 0.2, 0.5, 0.8, 1, 1.25, 1.5, 2]\n",
    "colors = sns.color_palette('Set2', n_colors=len(C_param_range))\n",
    "\n",
    "plt.figure(figsize=(10, 8))\n",
    "\n",
    "# Write a for loop that builds models for each value of C_param_range, prints the AUC and plots the ROC\n",
    "for n, c in enumerate(C_param_range):\n",
    "    # Fit the model\n",
    "    logreg = LogisticRegression(fit_intercept=False, C=c, solver='liblinear')\n",
    "    model_log = logreg.fit(X_train_resampled, y_train_resampled)\n",
    "    # Calculate probability scores\n",
    "    y_score = model_log.decision_function(X_train_resampled)\n",
    "    # Get rates: fpr, tpr, thresholds\n",
    "    fpr, tpr, thresholds = roc_curve(y_train_resampled, y_score)\n",
    "    # Print the details of the model\n",
    "    print(model_log)\n",
    "    print(f'AUC for {c}: {auc(fpr, tpr)}')\n",
    "    print('-'*50)\n",
    "    # Plot the roc curve\n",
    "    plt.plot(fpr, tpr, color=colors[n], label=f'ROC curve Normalization Weight: {c}')\n",
    "    \n",
    "\n",
    "lw=2\n",
    "plt.plot([0, 1], [0, 1], color='navy', lw=lw, linestyle='--')\n",
    "plt.xlim([0.0, 1.0])\n",
    "plt.ylim([0.0, 1.05])\n",
    "plt.yticks([i/20.0 for i in range(21)])\n",
    "plt.xticks([i/20.0 for i in range(21)])\n",
    "plt.xlabel('False Positive Rate')\n",
    "plt.ylabel('True Positive Rate')\n",
    "plt.title('Receiver operating characteristic (ROC) Curve')\n",
    "plt.legend(loc='lower right')\n",
    "plt.show()"
   ]
  },
  {
   "cell_type": "markdown",
   "metadata": {},
   "source": [
    "## Something wrong here? \n",
    "Describe what is misleading about the AUC score and ROC curves produced by this code:"
   ]
  },
  {
   "cell_type": "code",
   "execution_count": null,
   "metadata": {},
   "outputs": [],
   "source": [
    "####### dont do this, DO NOT ALTER TEST DATA\n",
    "\n",
    "\n",
    "\n",
    "\n",
    "# Previous original class distribution\n",
    "print(y.value_counts()) \n",
    "X_resampled, y_resampled = SMOTE().fit_sample(X, y) \n",
    "# Preview synthetic sample class distribution\n",
    "print('---------------------------------')\n",
    "print(pd.Series(y_resampled).value_counts()) \n",
    "\n",
    "# Split resampled data into training and test sets\n",
    "X_train, X_test, y_train, y_test = train_test_split(X_resampled, y_resampled, random_state=0)\n",
    "\n",
    "# Now let's compare a few different regularization performances on the dataset:\n",
    "C_param_range = [0.005, 0.1, 0.2, 0.3, 0.5, 0.6, 0.7, 0.8]\n",
    "names = [0.005, 0.1, 0.2, 0.3, 0.5, 0.6, 0.7, 0.8]\n",
    "colors = sns.color_palette('Set2', n_colors=len(names))\n",
    "\n",
    "plt.figure(figsize=(10, 8))\n",
    "\n",
    "for n, c in enumerate(C_param_range):\n",
    "    # Fit a model\n",
    "    logreg = LogisticRegression(fit_intercept=False, C=c, solver='liblinear')\n",
    "    model_log = logreg.fit(X_train, y_train)\n",
    "\n",
    "    # Predict\n",
    "    y_hat_test = logreg.predict(X_test)\n",
    "\n",
    "    y_score = logreg.fit(X_train, y_train).decision_function(X_test)\n",
    "\n",
    "    fpr, tpr, thresholds = roc_curve(y_test, y_score)\n",
    "    print('----------------------------------------------')\n",
    "    print('AUC for {}: {}'.format(names[n], auc(fpr, tpr)))\n",
    "    lw = 2\n",
    "    plt.plot(fpr, tpr, color=colors[n],\n",
    "             lw=lw, label='ROC curve Normalization Weight: {}'.format(names[n]))\n",
    "plt.plot([0, 1], [0, 1], color='navy', lw=lw, linestyle='--')\n",
    "plt.xlim([0.0, 1.0])\n",
    "plt.ylim([0.0, 1.05])\n",
    "plt.yticks([i/20.0 for i in range(21)])\n",
    "plt.xticks([i/20.0 for i in range(21)])\n",
    "plt.xlabel('False Positive Rate')\n",
    "plt.ylabel('True Positive Rate')\n",
    "plt.title('Receiver operating characteristic (ROC) Curve')\n",
    "plt.legend(loc='lower right')\n",
    "plt.show()"
   ]
  },
  {
   "cell_type": "markdown",
   "metadata": {},
   "source": [
    "## Your response here"
   ]
  },
  {
   "cell_type": "markdown",
   "metadata": {},
   "source": [
    "## Summary\n",
    "\n",
    "In this lab, you got some hands-on practice tuning logistic regression models. In the upcoming labs and lessons, you will continue to dig into the underlying mathematics of logistic regression, taking on a statistical point of view and providing you with a deeper understanding of how the algorithm works. This should give you further insight as to how to tune and apply these models going forward."
   ]
  },
  {
   "cell_type": "code",
   "execution_count": 1,
   "metadata": {},
   "outputs": [
    {
     "name": "stdout",
     "output_type": "stream",
     "text": [
      "Normalized counts: \n",
      "\n",
      "0\t99.83%\n",
      "1\t0.1727%\n"
     ]
    }
   ],
   "source": [
    "import pandas as pd\n",
    "\n",
    "# Load a compressed csv file\n",
    "data = pd.read_csv('creditcard.csv.gz')\n",
    "\n",
    "# Identify target feature\n",
    "target = 'Class'\n",
    "\n",
    "# Investigating poptential class imbalence\n",
    "  # Print the number of fraudulent/infraudulent purchases\n",
    "print('Normalized counts: \\n')\n",
    "for e in [x for x in enumerate(data[target].value_counts(normalize=True))]:\n",
    "    print(f'{e[0]}\\t{e[1]*100:.4}%')"
   ]
  },
  {
   "cell_type": "code",
   "execution_count": 3,
   "metadata": {},
   "outputs": [],
   "source": [
    "def check_model(current_model, \n",
    "                data=data, \n",
    "                target=target, \n",
    "                test_size=.20, \n",
    "                random_state=42, \n",
    "                class_imbalance_method=None, \n",
    "                use_test_data=False, \n",
    "                show_thresholds_table=False, \n",
    "                show_classification_report=False, \n",
    "                display_labels=None):\n",
    "    \"\"\"   \n",
    "    Uses sklearn.model_selection.train_test_split to divide data into train and test sets, \n",
    "    sklearn.preprocessing.StandardScaler to scale data,\n",
    "    imblearn.over_sampling.SMOTE to create synthetic data if specified, \n",
    "    .fit() to instantiated sklearn.linear_model.LogisticRegression current_model\n",
    "    outputs model results for training data, unless specified otherwise with use_test_data=True\n",
    "    \n",
    "    Output\n",
    "    ---------- \n",
    "    Plots Confusion matrix and ROC curve,\n",
    "    (optional) Thresholds, FPRs, TPRs, & AUC Stats Table,\n",
    "    (optional) Classification Report\n",
    "    \n",
    "    \n",
    "    Parameters\n",
    "    ----------\n",
    " \n",
    "    current_model : variable of instantiated sklearn.linear_model.LogisticRegression model. \n",
    "    \n",
    "    data : pandas data frame, default=data\n",
    "    \n",
    "    target : string or variable set to a string, default=target\n",
    "    \n",
    "    test_size : a sklearn.model_selection.train_test_split parameter: float or int, default=.20\n",
    "        If float, should be between 0.0 and 1.0 and represent the proportion\n",
    "        of the dataset to include in the test split. If int, represents the\n",
    "        absolute number of test samples.\n",
    "    \n",
    "    random_state : int or RandomState instance, default=42\n",
    "        Controls the shuffling applied to the data before applying the split.\n",
    "        Pass an int for reproducible output across multiple function calls.\n",
    "\n",
    "    class_imbalance_method : {'SMOTE', 'Smote-NC', 'SMOTETomek', 'None'}, default=None\n",
    "        Optional way of handling class imbalance problem. \n",
    "        SMOTE - Synthetic Minority Over-sampling Technique \n",
    "        \n",
    "            \"Smote oversampling technique only works for the dataset with all continuous features. \n",
    "            For a dataset with categorical features, we have a variation of Smote, which is Smote-NC \n",
    "            (Nominal and Continuous). \n",
    "            Smote can also be used for data with categorical features, by one-hot encoding but it may result \n",
    "            in an increase in dimensionality. Label Encoding can also be used to convert categorical to numerical, \n",
    "            but after smote it may result in unnecessary information. This is why we need to use SMOTE-NC when we \n",
    "            have cases of mixed data. Smote-NC can be used by denoting the features that are categorical, and \n",
    "            Smote would resample the categorical data instead of creating synthetic data.\" (Kumar, \"7 Over \n",
    "            Sampling techniques to handle Imbalanced Data\", \n",
    "            https://towardsdatascience.com/7-over-sampling-techniques-to-handle-imbalanced-data-ec51c8db349f)\n",
    "        \n",
    "        SMOTETomak - combination of SMOTE and Tomek Links\n",
    "        \n",
    "            \"SMOTE is an oversampling technique and creates new minority class synthetic samples, and Tomek Links \n",
    "            is an undersampling technique\n",
    "            \n",
    "            For an imbalanced dataset, first SMOTE is applied to create new synthetic minority samples to get a \n",
    "            balanced distribution. Further, Tomek Links is used in removing the samples close to the boundary of \n",
    "            the two classes, to increase the separation between the two classes.\" (Kumar, \"Stop using SMOTE to \n",
    "            handle all your Imbalanced Data\", \n",
    "            https://towardsdatascience.com/stop-using-smote-to-handle-all-your-imbalanced-data-34403399d3be)\n",
    "    \n",
    "    use_test_data : boolean True or False, default=False\n",
    "        determines the data used to asses model performance\n",
    "    \n",
    "    show_thresholds_report : boolean True or False, default=False\n",
    "        Print table with AUC score, Thresholds, FPR's and TPR's\n",
    "    \n",
    "    show_classification_report : boolean True or False, default=False\n",
    "        Build a text report showing the main classification metrics.\n",
    "    \n",
    "    display_labels : dict, list or 'None', default=None\n",
    "        By default the function will set display_labels=sorted(set(y_true.values)). This will display labels as \n",
    "        they appear within the dataframe.\n",
    "        If the target is binary the labels can be changed to more descriptive labels. \n",
    "        example: ['Healthy', 'HeartDisease']\n",
    "\n",
    "    \"\"\"\n",
    "    # Imports for function\n",
    "    import matplotlib.pyplot as plt\n",
    "    %matplotlib inline\n",
    "    from sklearn.model_selection import train_test_split\n",
    "    from sklearn.preprocessing import StandardScaler\n",
    "    from imblearn.over_sampling import SMOTE\n",
    "    from imblearn.combine import SMOTETomek\n",
    "    from sklearn.metrics import confusion_matrix, plot_confusion_matrix,\\\n",
    "        precision_score, recall_score, accuracy_score, f1_score, log_loss,\\\n",
    "        roc_curve, roc_auc_score, classification_report, plot_roc_curve, auc\n",
    "\n",
    "    \n",
    "    # 1. Separate data into features and target \n",
    "    X = data.drop(target, axis = 1)\n",
    "    y = data[target]\n",
    "\n",
    "    \n",
    "    # 2. Split data into train and test sets\n",
    "    X_train, X_test, y_train, y_test = train_test_split(X, y, test_size=test_size, random_state=random_state)\n",
    "\n",
    "    \n",
    "    # 3. Scale the data  \n",
    "    #    PIPELINE when using CROSS VALIDATION so no data leakage, dont know how yet, update later\n",
    "    #    a. Instantiate and fit\n",
    "    scaler = StandardScaler()\n",
    "    scaler.fit(X_train)\n",
    "    #    b. Transform X_train and X_test\n",
    "    X_train_sc = scaler.transform(X_train)\n",
    "    X_test_sc = scaler.transform(X_test)\n",
    "    \n",
    "    \n",
    "    # Optional Synthetic Data: use SMOTE or SMOTETomek to compensate for class imbalance\n",
    "    # Instantiate, fit and assign new variables \n",
    "    if class_imbalance_method == 'SMOTE':\n",
    "        X_resampled, y_resampled = SMOTE(random_state=random_state).fit_sample(X_train_sc, y_train)\n",
    "    elif class_imbalance_method == 'SMOTETomek':\n",
    "        X_resampled, y_resampled = SMOTETomek(random_state=random_state).fit_sample(X_train_sc, y_train)\n",
    " \n",
    "\n",
    "    # 4. Fit current_model \n",
    "    if class_imbalance_method == None:\n",
    "        fit_model = current_model.fit(X_train_sc, y_train) \n",
    "    else: \n",
    "        fit_model = current_model.fit(X_resampled, y_resampled) \n",
    "    \n",
    "    \n",
    "    # 5. Test or Train data  \n",
    "    if use_test_data == False:\n",
    "        if class_imbalance_method == None:\n",
    "            X_true = X_train_sc\n",
    "            y_true = y_train\n",
    "        else:\n",
    "            X_true = X_resampled\n",
    "            y_true = y_resampled\n",
    "    else:\n",
    "        X_true = X_test_sc\n",
    "        y_true = y_test\n",
    "    \n",
    "    \n",
    "    ######################################################################\n",
    "    # OUTPUTS                                                            #\n",
    "    ######################################################################\n",
    "    \n",
    "    \n",
    "    # Optional Thresholds Table\n",
    "    if show_thresholds_table == True:\n",
    "        # a. Calculate the probability scores\n",
    "        y_score = fit_model.decision_function(X_true)\n",
    "        # b. Assign variables\n",
    "        fpr, tpr, thresholds = roc_curve(y_true, y_score)\n",
    "        thresh_fp_tp = list(zip(thresholds, fpr, tpr))\n",
    "        these_to_print = [f'THRESHOLD: {e[0]:.2f} | FPR: {e[1]:.2%}, TPR:{e[2]:.2%}' for e in thresh_fp_tp]        \n",
    "        auc = auc(fpr, tpr)\n",
    "        # c. Print the table\n",
    "        print('-'*54)\n",
    "        print('\\t\\t  THRESHOLD STATS')\n",
    "        print('-'*54)\n",
    "        print(f'AUC: {auc}')\n",
    "        print('- '*23)\n",
    "        for element in these_to_print:\n",
    "            print(element)\n",
    "        print('-'*54)\n",
    "        \n",
    "        \n",
    "    # Optional Classification Report\n",
    "    if show_classification_report == True:\n",
    "        # a. Calculate the accuracy score for our model \n",
    "        y_pred = current_model.predict(X_true) \n",
    "        # b. Print classification report\n",
    "        cr = classification_report(y_true, y_pred, digits=4)\n",
    "        print('-'*54)\n",
    "        print('\\t\\t CLASSIFICATION REPORT')\n",
    "        print('-'*54)\n",
    "        print(cr)\n",
    "        print('-'*54)\n",
    "    \n",
    " \n",
    "    ######################################################################\n",
    "    # VISUALIZATIONS                                                     #\n",
    "    ######################################################################\n",
    "\n",
    "    \n",
    "    # Figure set up\n",
    "    plt.style.use('fivethirtyeight')\n",
    "    fig, axes = plt.subplots(nrows=1, ncols=2, figsize=(13, 5)) \n",
    "    fig.suptitle(f'Model: {current_model}', color='tab:blue', size=14)\n",
    "     \n",
    "        \n",
    "    # Left  \n",
    "    axes[0].set_title(\"Confusion Matrix\", size=15)  \n",
    "    axes[0].grid(False)\n",
    "    if display_labels == None:\n",
    "        display_labels = sorted(set(y_true.values))\n",
    "    #else:\n",
    "    #    display_labels = display_labels\n",
    "    plot_confusion_matrix(current_model, X_true, y_true, \n",
    "                          cmap=plt.cm.Blues, \n",
    "                          ax=axes[0], \n",
    "                          display_labels=display_labels)\n",
    "        \n",
    "    # Right \n",
    "    axes[1].set_title(\"ROC Curve\", size=15)\n",
    "    plot_roc_curve(current_model, X_true, y_true, ax=axes[1]);\n",
    "    \n",
    "    ########### NOTES:\n",
    "    # model_log_loss?\n",
    "    # \n",
    "    "
   ]
  },
  {
   "cell_type": "code",
   "execution_count": 2,
   "metadata": {},
   "outputs": [],
   "source": [
    "from sklearn.linear_model import LogisticRegression\n",
    "# set a model\n",
    "logreg = LogisticRegression(fit_intercept=False, C=1e12, solver='liblinear')"
   ]
  },
  {
   "cell_type": "code",
   "execution_count": 4,
   "metadata": {},
   "outputs": [
    {
     "data": {
      "image/png": "[encoded data removed]",
      "text/plain": [
       "<Figure size 936x360 with 3 Axes>"
      ]
     },
     "metadata": {},
     "output_type": "display_data"
    }
   ],
   "source": [
    "# check_model \n",
    "check_model(logreg)"
   ]
  },
  {
   "cell_type": "code",
   "execution_count": null,
   "metadata": {},
   "outputs": [],
   "source": [
    "# check_model - use class_imbalance_method='SMOTE'\n",
    "check_model(logreg, class_imbalance_method='SMOTE')"
   ]
  },
  {
   "cell_type": "code",
   "execution_count": 5,
   "metadata": {},
   "outputs": [],
   "source": [
    "# set a model with adjusted class_weight dict\n",
    "logreg_cw = LogisticRegression(fit_intercept=False, C=1e12, solver='liblinear', \n",
    "                                class_weight={0: round(data[target].value_counts(normalize=True)[1],6), 1: round(data[target].value_counts(normalize=True)[0],6)})"
   ]
  },
  {
   "cell_type": "code",
   "execution_count": null,
   "metadata": {},
   "outputs": [],
   "source": [
    "check_model(logreg_cw)"
   ]
  },
  {
   "cell_type": "code",
   "execution_count": null,
   "metadata": {},
   "outputs": [],
   "source": []
  },
  {
   "cell_type": "code",
   "execution_count": 10,
   "metadata": {},
   "outputs": [
    {
     "data": {
      "image/png": "[encoded data removed]",
      "text/plain": [
       "<Figure size 936x360 with 3 Axes>"
      ]
     },
     "metadata": {},
     "output_type": "display_data"
    }
   ],
   "source": [
    "# check model logreg_cw on test_data - give more evident labels, print classification report and threshold table\n",
    "check_model(logreg_cw, \n",
    "            use_test_data=True, \n",
    "            display_labels=['safe', 'fraudulant'])"
   ]
  },
  {
   "cell_type": "code",
   "execution_count": 7,
   "metadata": {},
   "outputs": [],
   "source": [
    "from sklearn.metrics import confusion_matrix, plot_confusion_matrix\n",
    "plot_confusion_matrix()"
   ]
  },
  {
   "cell_type": "code",
   "execution_count": null,
   "metadata": {},
   "outputs": [],
   "source": []
  }
 ],
 "metadata": {
  "kernelspec": {
   "display_name": "Python (learn-env)",
   "language": "python",
   "name": "learn-env"
  },
  "language_info": {
   "codemirror_mode": {
    "name": "ipython",
    "version": 3
   },
   "file_extension": ".py",
   "mimetype": "text/x-python",
   "name": "python",
   "nbconvert_exporter": "python",
   "pygments_lexer": "ipython3",
   "version": "3.8.5"
  }
 },
 "nbformat": 4,
 "nbformat_minor": 2
}
